{
  "metadata": {
    "kernelspec": {
      "name": "python",
      "display_name": "Python (Pyodide)",
      "language": "python"
    },
    "language_info": {
      "codemirror_mode": {
        "name": "python",
        "version": 3
      },
      "file_extension": ".py",
      "mimetype": "text/x-python",
      "name": "python",
      "nbconvert_exporter": "python",
      "pygments_lexer": "ipython3",
      "version": "3.8"
    }
  },
  "nbformat_minor": 5,
  "nbformat": 4,
  "cells": [
    {
      "id": "557b19f2-3ecd-412a-93a1-8cd48613a1ea",
      "cell_type": "markdown",
      "source": " Data Science Final Project\n",
      "metadata": {}
    },
    {
      "id": "12175467-4f31-4aa5-b546-b7b5c67d671c",
      "cell_type": "markdown",
      "source": "## 👋 Kirish\n\nUshbu daftar Data Science kursining yakuniy loyihasi hisoblanadi. Ushbu daftarda ma'lumotlar fani tillari, kutubxonalari, vositalari va Python kodlari misollar bilan ko‘rsatiladi.\n",
      "metadata": {}
    },
    {
      "id": "18aacb94-220c-4aba-82ce-f97c08f014de",
      "cell_type": "markdown",
      "source": "## 📝 Ma'lumotlar fanida qo'llaniladigan dasturlash tillari\n\n- Python\n- R\n- SQL\n- Julia\n- Scala\n",
      "metadata": {}
    },
    {
      "id": "4364c1e4-5ee4-4ca9-bb87-6e9bd18e8c37",
      "cell_type": "markdown",
      "source": "## 📚 Ma'lumotlar fani kutubxonalari\n\n1. Pandas\n2. NumPy\n3. Matplotlib\n4. Scikit-learn\n5. TensorFlow\n6. Seaborn\n",
      "metadata": {}
    },
    {
      "id": "77c228ce-122f-45d0-8ff5-f8b27a0819e0",
      "cell_type": "markdown",
      "source": "## 🛠️ Ma'lumotlar fani vositalari\n\n| Vosita nomi     | Kategoriya            |\n|------------------|------------------------|\n| Jupyter Notebook | Ma’lumotni tahlil qilish |\n| RStudio          | Dasturlash muhiti     |\n| Apache Spark     | Katta ma’lumotlar bilan ishlash |\n",
      "metadata": {}
    },
    {
      "id": "99dd8b65-dc77-45fc-a34c-cf91f7b6d62c",
      "cell_type": "markdown",
      "source": "## ➕ Arifmetik ifoda\n\nArifmetik ifoda namunasi: `3 + 5 * 2 = 13`\n",
      "metadata": {}
    },
    {
      "id": "0d1307dc-dd3d-4858-bb95-120ce568f73b",
      "cell_type": "code",
      "source": "# 8-mashq: Ko‘paytirish va qo‘shish\na = 4\nb = 5\nnatija = a * b + 2\nnatija\n",
      "metadata": {
        "trusted": true
      },
      "outputs": [
        {
          "execution_count": 3,
          "output_type": "execute_result",
          "data": {
            "text/plain": "22"
          },
          "metadata": {}
        }
      ],
      "execution_count": 3
    },
    {
      "id": "a1c43981-33a7-459f-b709-ddfe3f06ed5a",
      "cell_type": "code",
      "source": "# 9-mashq: Daqiqalarni soatga aylantirish\ndaqiqa = 150\nsoat = daqiqa / 60\nsoat\n",
      "metadata": {
        "trusted": true
      },
      "outputs": [
        {
          "execution_count": 2,
          "output_type": "execute_result",
          "data": {
            "text/plain": "2.5"
          },
          "metadata": {}
        }
      ],
      "execution_count": 2
    },
    {
      "id": "c58f17a1-49f5-46ba-914c-3be67e3b13f6",
      "cell_type": "markdown",
      "source": "## 🎯 Kursdan olingan maqsadlar\n\n- Ma'lumotlar fani tillari bilan tanishdim.\n- Mashhur kutubxonalarni o‘rgandim.\n- Data Science asboblari haqida tushunchaga ega bo‘ldim.\n- Python dasturlashda amaliy ko‘nikma hosil qildim.\n",
      "metadata": {}
    },
    {
      "id": "a2d7b3e3-88d5-45dc-b460-d0b46438f6a1",
      "cell_type": "markdown",
      "source": "## ✍️ Muallif\n\n**Ism**: Azizbek Hasanov  \n**Kurs**: IBM Data Science  \n**Tashkilot**: Coursera & Skills Network\n",
      "metadata": {}
    },
    {
      "id": "6dab4042-ea48-4fd4-bd66-fb50e07b22a2",
      "cell_type": "code",
      "source": "",
      "metadata": {
        "trusted": true
      },
      "outputs": [],
      "execution_count": null
    }
  ]
}